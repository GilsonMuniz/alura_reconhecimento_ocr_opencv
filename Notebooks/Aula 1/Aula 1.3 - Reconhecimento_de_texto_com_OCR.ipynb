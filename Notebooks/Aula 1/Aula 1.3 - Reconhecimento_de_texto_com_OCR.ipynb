{
  "cells": [
    {
      "cell_type": "markdown",
      "metadata": {
        "id": "e7dDH6Ar-pMA"
      },
      "source": [
        "# Aula 1"
      ]
    },
    {
      "cell_type": "markdown",
      "metadata": {
        "id": "Njk5DLzl9NKx"
      },
      "source": [
        "## Introdução ao OCR"
      ]
    },
    {
      "cell_type": "markdown",
      "metadata": {
        "id": "IOIzx6fz9hq4"
      },
      "source": [
        "### O que é o OCR? \n",
        "\n",
        "OCR, que em inglês é chamado de Optical Character Recognition e tem a sua tradução para Reconhecimento de Caractere Óptico, e dá se ao processo que converte uma imagem de texto em um formato de texto legível por máquina\n",
        "\n",
        "### Como o OCR funciona?\n",
        "* Aquisição da imagem\n",
        "* Pré-processamento\n",
        "* Reconhecimento de texto\n",
        "  - Reconhecimento de padrões\n",
        "  - Detecção de recursos\n",
        "* Pós-processamento\n",
        "\n",
        "\n",
        "\n",
        "Existem diversas ferramentas disponíveis para serem utilizadas e nós vamos utilizar o [`pytesseract`](https://pypi.org/project/pytesseract/), que é uma biblioteca do Python que permite com que possamos utilizar o [`Tesseract OCR`](https://tesseract-ocr.github.io/), que é um recurso open source da Google e funciona com a OCR Engine. Por ser um recurso open source tem um [`repositório no GitHub`](https://github.com/tesseract-ocr/tesseract), e mais de 100 línguas no seu vocabulário, além de ser possível fazer com que ele aprenda novas linguagens."
      ]
    },
    {
      "cell_type": "markdown",
      "metadata": {
        "id": "c0r-LVU7-g1g"
      },
      "source": [
        "## OCR no Colab"
      ]
    },
    {
      "cell_type": "markdown",
      "metadata": {
        "id": "9vxBYYllAYcI"
      },
      "source": [
        "As bibliotecas não são instaladas previamente no Google Colaboratory, então é necessário que a instalação seja feita utilizando o pip.\n",
        "\n",
        "\n",
        "\n",
        "```\n",
        "!pip install opencv-python==4.6.0\n",
        "!sudo apt install tesseract-ocr\n",
        "!pip install pytesseract==0.3.9\n",
        "```\n",
        "\n",
        "E os dados utilizados no curso serão importados utilizando o `!git clone` da pasta [`text-recognize`](https://github.com/sthemonica/text-recognize), afim de facilitar a importação de arquivos."
      ]
    },
    {
      "cell_type": "code",
      "execution_count": 1,
      "metadata": {
        "colab": {
          "base_uri": "https://localhost:8080/",
          "height": 1000
        },
        "id": "uB-CVU3G1Irn",
        "outputId": "333d2660-28ad-4b04-c8de-c80f09de6efa"
      },
      "outputs": [],
      "source": [
        "# !pip install opencv-python==4.6.0\n",
        "# !sudo apt install tesseract-ocr\n",
        "# !pip install pytesseract==0.3.9"
      ]
    },
    {
      "cell_type": "code",
      "execution_count": 2,
      "metadata": {
        "colab": {
          "base_uri": "https://localhost:8080/"
        },
        "id": "2i-gIWhst4DM",
        "outputId": "35cc82c1-b0e1-4bfc-8fe0-3c2e9b018610"
      },
      "outputs": [],
      "source": [
        "# !git clone https://github.com/sthemonica/text-recognize"
      ]
    },
    {
      "cell_type": "code",
      "execution_count": 3,
      "metadata": {
        "id": "njwBjv8MuCyM"
      },
      "outputs": [],
      "source": [
        "import pytesseract\n",
        "import numpy as np\n",
        "import cv2 # OpenCV\n",
        "# from google.colab.patches import cv2_imshow # para mostrar as imagens no Google Colab"
      ]
    },
    {
      "cell_type": "code",
      "execution_count": 4,
      "metadata": {
        "colab": {
          "base_uri": "https://localhost:8080/",
          "height": 35
        },
        "id": "mE-GELz2uQ_D",
        "outputId": "20557353-f8c0-4797-fb8f-ea34f5ad363e"
      },
      "outputs": [
        {
          "data": {
            "text/plain": [
              "'0.3.9'"
            ]
          },
          "execution_count": 4,
          "metadata": {},
          "output_type": "execute_result"
        }
      ],
      "source": [
        "pytesseract.__version__"
      ]
    },
    {
      "cell_type": "code",
      "execution_count": 5,
      "metadata": {
        "colab": {
          "base_uri": "https://localhost:8080/",
          "height": 35
        },
        "id": "r5frG0wYuTIT",
        "outputId": "59dc3ad6-260e-4ab2-b8ef-0a0ce960528b"
      },
      "outputs": [
        {
          "data": {
            "text/plain": [
              "'4.7.0'"
            ]
          },
          "execution_count": 5,
          "metadata": {},
          "output_type": "execute_result"
        }
      ],
      "source": [
        "cv2.__version__"
      ]
    },
    {
      "cell_type": "code",
      "execution_count": 6,
      "metadata": {
        "colab": {
          "base_uri": "https://localhost:8080/",
          "height": 316
        },
        "id": "6EJeuJvyuYLk",
        "outputId": "a78746b1-f8b0-4caa-8095-dc7df8d1e813"
      },
      "outputs": [],
      "source": [
        "img = cv2.imread('/home/gilson/Documentos/alura/alura_reconhecimento_ocr_opencv/Imagens/Aula1-teste.png')\n",
        "cv2.imshow('img', img)\n",
        "cv2.waitKey(0) # necessário fora do colab, pressionar a tecla 0\n",
        "cv2.destroyAllWindows()"
      ]
    },
    {
      "cell_type": "code",
      "execution_count": 7,
      "metadata": {
        "colab": {
          "base_uri": "https://localhost:8080/"
        },
        "id": "7AjOkwTOuqQl",
        "outputId": "0c3186eb-0eb9-49be-a171-6d0d230262f9"
      },
      "outputs": [
        {
          "name": "stdout",
          "output_type": "stream",
          "text": [
            "TESTE INICIAL OCR\n",
            "\f\n"
          ]
        }
      ],
      "source": [
        "texto = pytesseract.image_to_string(img)\n",
        "print(texto)"
      ]
    },
    {
      "cell_type": "markdown",
      "metadata": {
        "id": "B39If7Dp-l0g"
      },
      "source": [
        "## Imagens BGR\n"
      ]
    },
    {
      "cell_type": "markdown",
      "metadata": {
        "id": "MUnRsSCNAPqH"
      },
      "source": [
        "O OpenCV tem seus canais de cores invertidos, então para utilizarmos com outras bibliotecas precisamos fazer a conversão de BGR para RGB. \n",
        "Existem outros tipos de conversões que podem ser feitas e a lista pode ser acessada no site da [documentação do OpenCV](https://docs.opencv.org/3.4/d8/d01/group__imgproc__color__conversions.html)."
      ]
    },
    {
      "cell_type": "code",
      "execution_count": 8,
      "metadata": {
        "id": "YeGbFPSf-n7H"
      },
      "outputs": [],
      "source": [
        "img = cv2.imread('/home/gilson/Documentos/alura/alura_reconhecimento_ocr_opencv/Imagens/Aula1-ocr.png')\n",
        "cv2.imshow('img', img)\n",
        "cv2.waitKey(0) # necessário fora do colab, pressionar a tecla 0\n",
        "cv2.destroyAllWindows()"
      ]
    },
    {
      "cell_type": "code",
      "execution_count": 9,
      "metadata": {},
      "outputs": [],
      "source": [
        "rgb = cv2.cvtColor(img, cv2.COLOR_BGR2RGB)\n",
        "cv2.imshow('rgb', rgb)\n",
        "cv2.waitKey(0) # necessário fora do colab, pressionar a tecla 0\n",
        "cv2.destroyAllWindows()"
      ]
    },
    {
      "cell_type": "code",
      "execution_count": 10,
      "metadata": {},
      "outputs": [],
      "source": [
        "gray = cv2.cvtColor(img, cv2.COLOR_BGR2GRAY)\n",
        "cv2.imshow('gray', gray)\n",
        "cv2.waitKey(0) # necessário fora do colab, pressionar a tecla 0\n",
        "cv2.destroyAllWindows()"
      ]
    },
    {
      "cell_type": "markdown",
      "metadata": {
        "id": "vXZn2Kg0-rxw"
      },
      "source": [
        "# Aula 2"
      ]
    },
    {
      "cell_type": "markdown",
      "metadata": {
        "id": "G6tCg9jU-tKv"
      },
      "source": [
        "## Caracteres diferentes"
      ]
    },
    {
      "cell_type": "code",
      "execution_count": 11,
      "metadata": {
        "id": "FFaj5yKM-swz"
      },
      "outputs": [],
      "source": [
        "img = cv2.imread('/home/gilson/Documentos/alura/alura_reconhecimento_ocr_opencv/Imagens/Aula2-undersampling.png')\n",
        "rgb = cv2.cvtColor(img, cv2.COLOR_BGR2RGB)\n",
        "cv2.imshow('rgb', rgb)\n",
        "cv2.waitKey(0) # necessário fora do colab, pressionar a tecla 0\n",
        "cv2.destroyAllWindows()"
      ]
    },
    {
      "cell_type": "code",
      "execution_count": 12,
      "metadata": {
        "id": "9b_EuBErBMXQ"
      },
      "outputs": [
        {
          "name": "stdout",
          "output_type": "stream",
          "text": [
            "Undersampling\n",
            "\n",
            "E uma técnica que consiste em manter todos os dados da classe com menor frequéncia e\n",
            "diminuir a quantidade dos que estdo na classe de maior frequéncia, fazendo com que as\n",
            "observagées no conjunto possuam dados com a variavel alvo equilibrada.\n",
            "\f\n"
          ]
        }
      ],
      "source": [
        "texto = pytesseract.image_to_string(rgb)\n",
        "print(texto)"
      ]
    },
    {
      "attachments": {},
      "cell_type": "markdown",
      "metadata": {
        "id": "iO78z2q9BMrB"
      },
      "source": [
        "As palavras **frequência**, **estão** e **observações** não conseguiram ser traduzidas de uma forma boa o suficiente, o que nos faz pensar que o Tesseract está com algum problema e vamos verificar quais as listas de línguas que estão instaladas atualmente no sistema para auxiliar na leitura das nossas imagens, para isso usamos:\n",
        "\n",
        "```\n",
        "!tesseract --list-langs\n",
        "```"
      ]
    },
    {
      "cell_type": "code",
      "execution_count": 13,
      "metadata": {
        "id": "gy94FE6sBReZ"
      },
      "outputs": [
        {
          "name": "stdout",
          "output_type": "stream",
          "text": [
            "List of available languages (161):\n",
            "Arabic\n",
            "Armenian\n",
            "Bengali\n",
            "Canadian_Aboriginal\n",
            "Cherokee\n",
            "Cyrillic\n",
            "Devanagari\n",
            "Ethiopic\n",
            "Fraktur\n",
            "Georgian\n",
            "Greek\n",
            "Gujarati\n",
            "Gurmukhi\n",
            "HanS\n",
            "HanS_vert\n",
            "HanT\n",
            "HanT_vert\n",
            "Hangul\n",
            "Hangul_vert\n",
            "Hebrew\n",
            "Japanese\n",
            "Japanese_vert\n",
            "Kannada\n",
            "Khmer\n",
            "Lao\n",
            "Latin\n",
            "Malayalam\n",
            "Myanmar\n",
            "Oriya\n",
            "Sinhala\n",
            "Syriac\n",
            "Tamil\n",
            "Telugu\n",
            "Thaana\n",
            "Thai\n",
            "Tibetan\n",
            "Vietnamese\n",
            "afr\n",
            "amh\n",
            "ara\n",
            "asm\n",
            "aze\n",
            "aze_cyrl\n",
            "bel\n",
            "ben\n",
            "bod\n",
            "bos\n",
            "bre\n",
            "bul\n",
            "cat\n",
            "ceb\n",
            "ces\n",
            "chi_sim\n",
            "chi_sim_vert\n",
            "chi_tra\n",
            "chi_tra_vert\n",
            "chr\n",
            "cos\n",
            "cym\n",
            "dan\n",
            "deu\n",
            "div\n",
            "dzo\n",
            "ell\n",
            "eng\n",
            "enm\n",
            "epo\n",
            "est\n",
            "eus\n",
            "fao\n",
            "fas\n",
            "fil\n",
            "fin\n",
            "fra\n",
            "frk\n",
            "frm\n",
            "fry\n",
            "gla\n",
            "gle\n",
            "glg\n",
            "grc\n",
            "guj\n",
            "hat\n",
            "heb\n",
            "hin\n",
            "hrv\n",
            "hun\n",
            "hye\n",
            "iku\n",
            "ind\n",
            "isl\n",
            "ita\n",
            "ita_old\n",
            "jav\n",
            "jpn\n",
            "jpn_vert\n",
            "kan\n",
            "kat\n",
            "kat_old\n",
            "kaz\n",
            "khm\n",
            "kir\n",
            "kmr\n",
            "kor\n",
            "kor_vert\n",
            "lao\n",
            "lat\n",
            "lav\n",
            "lit\n",
            "ltz\n",
            "mal\n",
            "mar\n",
            "mkd\n",
            "mlt\n",
            "mon\n",
            "mri\n",
            "msa\n",
            "mya\n",
            "nep\n",
            "nld\n",
            "nor\n",
            "oci\n",
            "ori\n",
            "osd\n",
            "pan\n",
            "pol\n",
            "por\n",
            "pus\n",
            "que\n",
            "ron\n",
            "rus\n",
            "san\n",
            "sin\n",
            "slk\n",
            "slv\n",
            "snd\n",
            "spa\n",
            "spa_old\n",
            "sqi\n",
            "srp\n",
            "srp_latn\n",
            "sun\n",
            "swa\n",
            "swe\n",
            "syr\n",
            "tam\n",
            "tat\n",
            "tel\n",
            "tgk\n",
            "tha\n",
            "tir\n",
            "ton\n",
            "tur\n",
            "uig\n",
            "ukr\n",
            "urd\n",
            "uzb\n",
            "uzb_cyrl\n",
            "vie\n",
            "yid\n",
            "yor\n"
          ]
        }
      ],
      "source": [
        "!tesseract --list-langs"
      ]
    },
    {
      "cell_type": "code",
      "execution_count": 14,
      "metadata": {
        "id": "Kaj4gUMgBUuQ"
      },
      "outputs": [
        {
          "name": "stdout",
          "output_type": "stream",
          "text": [
            "E: Não foi possível abrir arquivo de trava /var/lib/dpkg/lock-frontend - open (13: Permissão negada)\n",
            "E: Unable to acquire the dpkg frontend lock (/var/lib/dpkg/lock-frontend), are you root?\n"
          ]
        }
      ],
      "source": [
        "!apt-get install tesseract-ocr-por"
      ]
    },
    {
      "cell_type": "code",
      "execution_count": 15,
      "metadata": {},
      "outputs": [
        {
          "name": "stdout",
          "output_type": "stream",
          "text": [
            "List of available languages (161):\n",
            "Arabic\n",
            "Armenian\n",
            "Bengali\n",
            "Canadian_Aboriginal\n",
            "Cherokee\n",
            "Cyrillic\n",
            "Devanagari\n",
            "Ethiopic\n",
            "Fraktur\n",
            "Georgian\n",
            "Greek\n",
            "Gujarati\n",
            "Gurmukhi\n",
            "HanS\n",
            "HanS_vert\n",
            "HanT\n",
            "HanT_vert\n",
            "Hangul\n",
            "Hangul_vert\n",
            "Hebrew\n",
            "Japanese\n",
            "Japanese_vert\n",
            "Kannada\n",
            "Khmer\n",
            "Lao\n",
            "Latin\n",
            "Malayalam\n",
            "Myanmar\n",
            "Oriya\n",
            "Sinhala\n",
            "Syriac\n",
            "Tamil\n",
            "Telugu\n",
            "Thaana\n",
            "Thai\n",
            "Tibetan\n",
            "Vietnamese\n",
            "afr\n",
            "amh\n",
            "ara\n",
            "asm\n",
            "aze\n",
            "aze_cyrl\n",
            "bel\n",
            "ben\n",
            "bod\n",
            "bos\n",
            "bre\n",
            "bul\n",
            "cat\n",
            "ceb\n",
            "ces\n",
            "chi_sim\n",
            "chi_sim_vert\n",
            "chi_tra\n",
            "chi_tra_vert\n",
            "chr\n",
            "cos\n",
            "cym\n",
            "dan\n",
            "deu\n",
            "div\n",
            "dzo\n",
            "ell\n",
            "eng\n",
            "enm\n",
            "epo\n",
            "est\n",
            "eus\n",
            "fao\n",
            "fas\n",
            "fil\n",
            "fin\n",
            "fra\n",
            "frk\n",
            "frm\n",
            "fry\n",
            "gla\n",
            "gle\n",
            "glg\n",
            "grc\n",
            "guj\n",
            "hat\n",
            "heb\n",
            "hin\n",
            "hrv\n",
            "hun\n",
            "hye\n",
            "iku\n",
            "ind\n",
            "isl\n",
            "ita\n",
            "ita_old\n",
            "jav\n",
            "jpn\n",
            "jpn_vert\n",
            "kan\n",
            "kat\n",
            "kat_old\n",
            "kaz\n",
            "khm\n",
            "kir\n",
            "kmr\n",
            "kor\n",
            "kor_vert\n",
            "lao\n",
            "lat\n",
            "lav\n",
            "lit\n",
            "ltz\n",
            "mal\n",
            "mar\n",
            "mkd\n",
            "mlt\n",
            "mon\n",
            "mri\n",
            "msa\n",
            "mya\n",
            "nep\n",
            "nld\n",
            "nor\n",
            "oci\n",
            "ori\n",
            "osd\n",
            "pan\n",
            "pol\n",
            "por\n",
            "pus\n",
            "que\n",
            "ron\n",
            "rus\n",
            "san\n",
            "sin\n",
            "slk\n",
            "slv\n",
            "snd\n",
            "spa\n",
            "spa_old\n",
            "sqi\n",
            "srp\n",
            "srp_latn\n",
            "sun\n",
            "swa\n",
            "swe\n",
            "syr\n",
            "tam\n",
            "tat\n",
            "tel\n",
            "tgk\n",
            "tha\n",
            "tir\n",
            "ton\n",
            "tur\n",
            "uig\n",
            "ukr\n",
            "urd\n",
            "uzb\n",
            "uzb_cyrl\n",
            "vie\n",
            "yid\n",
            "yor\n"
          ]
        }
      ],
      "source": [
        "!tesseract --list-langs"
      ]
    },
    {
      "cell_type": "markdown",
      "metadata": {
        "id": "LJBIyU2qBT3x"
      },
      "source": [
        "Agora já temos o português instalado e podemos passar novamente a imagem e definir que ela seja \"lida\" pelo Tesseract usando o português, para isso contamos com o  método `lang`."
      ]
    },
    {
      "cell_type": "code",
      "execution_count": 16,
      "metadata": {
        "id": "9uexltTiBWnQ"
      },
      "outputs": [
        {
          "name": "stdout",
          "output_type": "stream",
          "text": [
            "Undersampling\n",
            "\n",
            "É uma técnica que consiste em manter todos os dados da classe com menor frequência e\n",
            "diminuir a quantidade dos que estão na classe de maior frequência, fazendo com que as\n",
            "observações no conjunto possuam dados com a variável alvo equilibrada.\n",
            "\f\n"
          ]
        }
      ],
      "source": [
        "texto = pytesseract.image_to_string(rgb, lang='por')\n",
        "print(texto)"
      ]
    },
    {
      "cell_type": "markdown",
      "metadata": {
        "id": "4VvkoKX2-ynY"
      },
      "source": [
        "## PSM"
      ]
    },
    {
      "cell_type": "markdown",
      "metadata": {
        "id": "dG8xOFPsBZ1Y"
      },
      "source": [
        "Page Segmentation Mode (PSM) ou em uma tradução livre modos de segmentação de página."
      ]
    },
    {
      "cell_type": "code",
      "execution_count": 17,
      "metadata": {
        "id": "WzYzkfXl-0r_"
      },
      "outputs": [
        {
          "name": "stdout",
          "output_type": "stream",
          "text": [
            "Page segmentation modes:\n",
            "  0    Orientation and script detection (OSD) only.\n",
            "  1    Automatic page segmentation with OSD.\n",
            "  2    Automatic page segmentation, but no OSD, or OCR. (not implemented)\n",
            "  3    Fully automatic page segmentation, but no OSD. (Default)\n",
            "  4    Assume a single column of text of variable sizes.\n",
            "  5    Assume a single uniform block of vertically aligned text.\n",
            "  6    Assume a single uniform block of text.\n",
            "  7    Treat the image as a single text line.\n",
            "  8    Treat the image as a single word.\n",
            "  9    Treat the image as a single word in a circle.\n",
            " 10    Treat the image as a single character.\n",
            " 11    Sparse text. Find as much text as possible in no particular order.\n",
            " 12    Sparse text with OSD.\n",
            " 13    Raw line. Treat the image as a single text line,\n",
            "       bypassing hacks that are Tesseract-specific.\n"
          ]
        }
      ],
      "source": [
        "!tesseract --help-psm"
      ]
    },
    {
      "cell_type": "code",
      "execution_count": 18,
      "metadata": {},
      "outputs": [],
      "source": [
        "img = cv2.imread('/home/gilson/Documentos/alura/alura_reconhecimento_ocr_opencv/Imagens/Aula2-trecho-livro.png')\n",
        "rgb = cv2.cvtColor(img, cv2.COLOR_BGR2RGB)\n",
        "cv2.imshow('rgb', rgb)\n",
        "cv2.waitKey(0) # necessário fora do colab, pressionar a tecla 0\n",
        "cv2.destroyAllWindows()"
      ]
    },
    {
      "cell_type": "code",
      "execution_count": null,
      "metadata": {},
      "outputs": [],
      "source": [
        "config_tesseract = '--tessdata-dir tessdata --psm 7'\n",
        "texto = pytesseract.image_to_string(rgb, lang='eng', config=config_tesseract)\n",
        "print(texto)"
      ]
    },
    {
      "cell_type": "markdown",
      "metadata": {
        "id": "GtI86YTX-1FZ"
      },
      "source": [
        "## Biblioteca Pillow"
      ]
    },
    {
      "cell_type": "markdown",
      "metadata": {
        "id": "PD1RRqBRBogA"
      },
      "source": [
        "Biblioteca Pillow, que é mais conhecida pelo seu nome antigo, **PIL**: Python Imaging Library. "
      ]
    },
    {
      "cell_type": "code",
      "execution_count": null,
      "metadata": {
        "id": "1lvNslX7-4Kx"
      },
      "outputs": [],
      "source": []
    },
    {
      "cell_type": "markdown",
      "metadata": {
        "id": "qEIHWaAxB3Lp"
      },
      "source": [
        "**Método utilizado:**\n",
        "\n",
        "```\n",
        "pytesseract.image_to_osd()\n",
        "```\n",
        "\n",
        "\n",
        "OSD significa Orientation and Script Detection e o seu retorno são os \"metadados\" da imagem."
      ]
    },
    {
      "cell_type": "code",
      "execution_count": null,
      "metadata": {
        "id": "SMpoDzPrB205"
      },
      "outputs": [],
      "source": []
    },
    {
      "cell_type": "markdown",
      "metadata": {
        "id": "A4GkqaOh-4uf"
      },
      "source": [
        "# Aula 3"
      ]
    },
    {
      "cell_type": "markdown",
      "metadata": {
        "id": "t51r251C-7bZ"
      },
      "source": [
        "## Selecionando textos"
      ]
    },
    {
      "cell_type": "code",
      "execution_count": null,
      "metadata": {
        "id": "MiNKzvOb-5fN"
      },
      "outputs": [],
      "source": []
    },
    {
      "cell_type": "markdown",
      "metadata": {
        "id": "K0-AVSC_-9DY"
      },
      "source": [
        "## Caixa delimitadora"
      ]
    },
    {
      "cell_type": "code",
      "execution_count": null,
      "metadata": {
        "id": "faCMB9Vi_BPH"
      },
      "outputs": [],
      "source": []
    },
    {
      "cell_type": "markdown",
      "metadata": {
        "id": "tZxHtOvk_C6R"
      },
      "source": [
        "## Caixa e texto"
      ]
    },
    {
      "cell_type": "code",
      "execution_count": null,
      "metadata": {
        "id": "L72zCfZ8_EZQ"
      },
      "outputs": [],
      "source": []
    },
    {
      "cell_type": "markdown",
      "metadata": {
        "id": "1YQYiJH9_FZw"
      },
      "source": [
        "## Fontes"
      ]
    },
    {
      "cell_type": "code",
      "execution_count": null,
      "metadata": {
        "id": "G28w3094_GSv"
      },
      "outputs": [],
      "source": []
    },
    {
      "cell_type": "markdown",
      "metadata": {
        "id": "9Bi5OAK4_Gxw"
      },
      "source": [
        "## Função para fontes"
      ]
    },
    {
      "cell_type": "code",
      "execution_count": null,
      "metadata": {
        "id": "89BpagLP_Jtq"
      },
      "outputs": [],
      "source": []
    },
    {
      "cell_type": "markdown",
      "metadata": {
        "id": "4MT3_VA7_K0g"
      },
      "source": [
        "# Aula 4"
      ]
    },
    {
      "cell_type": "markdown",
      "metadata": {
        "id": "OR9quoIj_MH_"
      },
      "source": [
        "## Busca de informações"
      ]
    },
    {
      "cell_type": "code",
      "execution_count": null,
      "metadata": {
        "id": "mXpshddg_LuM"
      },
      "outputs": [],
      "source": []
    },
    {
      "cell_type": "markdown",
      "metadata": {
        "id": "f7lOZ5Rx_OMJ"
      },
      "source": [
        "## Destaque de informações"
      ]
    },
    {
      "cell_type": "code",
      "execution_count": null,
      "metadata": {
        "id": "5Tb_ZUSA_QmD"
      },
      "outputs": [],
      "source": []
    },
    {
      "cell_type": "markdown",
      "metadata": {
        "id": "-UhO6UaB_SXI"
      },
      "source": [
        "## Cenários naturais"
      ]
    },
    {
      "cell_type": "code",
      "execution_count": null,
      "metadata": {
        "id": "9eIfXbH-_TEv"
      },
      "outputs": [],
      "source": []
    },
    {
      "cell_type": "markdown",
      "metadata": {
        "id": "tNFTsqVT_XOA"
      },
      "source": [
        "## Falsos positivos"
      ]
    },
    {
      "cell_type": "code",
      "execution_count": null,
      "metadata": {
        "id": "9YIykI9e_X50"
      },
      "outputs": [],
      "source": []
    }
  ],
  "metadata": {
    "colab": {
      "collapsed_sections": [
        "B39If7Dp-l0g",
        "G6tCg9jU-tKv",
        "4VvkoKX2-ynY",
        "GtI86YTX-1FZ",
        "A4GkqaOh-4uf",
        "4MT3_VA7_K0g"
      ],
      "name": "Reconhecimento de texto com OCR.ipynb",
      "provenance": []
    },
    "kernelspec": {
      "display_name": "venv",
      "language": "python",
      "name": "python3"
    },
    "language_info": {
      "codemirror_mode": {
        "name": "ipython",
        "version": 3
      },
      "file_extension": ".py",
      "mimetype": "text/x-python",
      "name": "python",
      "nbconvert_exporter": "python",
      "pygments_lexer": "ipython3",
      "version": "3.8.10 (default, Nov 14 2022, 12:59:47) \n[GCC 9.4.0]"
    },
    "vscode": {
      "interpreter": {
        "hash": "5ad78b24bce03ab9a0439c7dc5f2e4e4794e8a94ec82021d012a54cd260799a1"
      }
    }
  },
  "nbformat": 4,
  "nbformat_minor": 0
}
